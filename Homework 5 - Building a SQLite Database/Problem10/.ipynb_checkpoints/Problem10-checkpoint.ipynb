{
 "cells": [
  {
   "cell_type": "markdown",
   "metadata": {},
   "source": [
    "CONTENTS:\n",
    "- VERSION 1 - Original code\n",
    "- VERSION 2 - Adapted from StackOverflow"
   ]
  },
  {
   "cell_type": "code",
   "execution_count": 31,
   "metadata": {},
   "outputs": [],
   "source": [
    "# Version 1\n",
    "import csv\n",
    "import sqlite3\n",
    "from sqlite3 import Error\n",
    "\n",
    "\n",
    "connection = None\n",
    "connection = sqlite3.connect(r\"OnlineMusicStore_Python.db\")\n",
    "cursor = connection.cursor()\n",
    "\n",
    "csv_file = open(\"hw5_original.csv\", \"r\")\n",
    "csv_reader = csv.reader(csv_file, delimiter=',')\n",
    "csv_data = []\n",
    "for row in csv_reader:\n",
    "    csv_data.append(tuple(row))\n",
    "\n",
    "csv_data[3667] = tuple([csv_data[3667][0].replace(\"'\",'\"')]) + csv_data[3667][1:]\n",
    "# Row 3667 was causing a serious problem\n",
    "# It's first element is: 'Nabucco: Chorus, \"Va, Pensiero, Sull'ali Dorate\"'\n",
    "# The single quotation mark in \"Sull'ali\" was breaking the code\n",
    "# Therefore, the above line replaces the single quote with a double quote\n",
    "\n",
    "cursor.execute(\"CREATE TABLE hw5_original \" + str(csv_data[0]) + \" ;\")\n",
    "\n",
    "for row in csv_data[1:]:\n",
    "    cursor.execute(\"INSERT INTO hw5_original\" + str(csv_data[0]) + \" VALUES \" + str(row) + \" ;\")\n",
    "\n",
    "csv_file.close()\n",
    "cursor.close()\n",
    "connection.commit()\n",
    "connection.close()"
   ]
  },
  {
   "cell_type": "code",
   "execution_count": 2,
   "metadata": {},
   "outputs": [],
   "source": [
    "# Version 2\n",
    "\n",
    "import csv\n",
    "import sqlite3\n",
    "from sqlite3 import Error\n",
    "\n",
    "\n",
    "connection = None\n",
    "connection = sqlite3.connect(r\"OnlineMusicStore_Python.db\")\n",
    "connection.text_factory = str\n",
    "cursor = connection.cursor()\n",
    "\n",
    "csv_file = open(\"hw5_original.csv\", \"r\")\n",
    "csv_reader = csv.reader(csv_file, delimiter=',')\n",
    "csv_data = []\n",
    "for row in csv_reader:\n",
    "    csv_data.append(tuple(row))\n",
    "\n",
    "cursor.execute(\"CREATE TABLE hw5_original \" + str(csv_data[0]) + \" ;\")\n",
    "\n",
    "with open('hw5_original.csv','r') as fin:\n",
    "    # csv.DictReader uses first line in file for column headings by default\n",
    "    dr = csv.DictReader(fin) # comma is default delimiter\n",
    "    to_db = [(i['TrackName'], i['Composer'], i['TrackLength'], i['TrackSizeBytes'], i['TrackPrice'], i['Genre'], i['MediaType'], i['AlbumTitle'], i['ArtistName'], i['InvoiceItemQuantity'], i['InvoiceItemUnitPrice'], i['InvoiceId'], i['InvoiceDate'], i['InvoiceBillingAddress'], i['InvoiceBillingCity'], i['InvoiceBillingState'], i['InvoiceBillingCountry'], i['InvoiceBillingPostalCode'], i['CustomerFirstName'], i['CustomerLastName'], i['CustomerAddress'], i['CustomerCity'], i['CustomerState'], i['CustomerCountry'], i['CustomerPostalCode'], i['CustomerPhone'], i['CustomerFax'], i['CustomerEmail']) for i in dr]\n",
    "\n",
    "cursor.executemany(\"INSERT INTO hw5_original VALUES (?, ?, ?, ?, ?, ?, ?,?, ?, ?, ?, ?, ?, ?,?, ?, ?, ?, ?, ?, ?,?, ?, ?, ?, ?, ?, ?);\", to_db)\n",
    "connection.commit()\n",
    "connection.close()\n",
    "\n",
    "# Credit to this StackOverflow post, whose solution works without having to remove that one problematic row\n",
    "# https://stackoverflow.com/questions/2887878/importing-a-csv-file-into-a-sqlite3-database-table-using-python"
   ]
  }
 ],
 "metadata": {
  "kernelspec": {
   "display_name": "Python 3",
   "language": "python",
   "name": "python3"
  },
  "language_info": {
   "codemirror_mode": {
    "name": "ipython",
    "version": 3
   },
   "file_extension": ".py",
   "mimetype": "text/x-python",
   "name": "python",
   "nbconvert_exporter": "python",
   "pygments_lexer": "ipython3",
   "version": "3.7.3"
  }
 },
 "nbformat": 4,
 "nbformat_minor": 4
}
